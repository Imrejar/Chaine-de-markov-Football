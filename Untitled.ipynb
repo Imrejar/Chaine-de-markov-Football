{
 "cells": [
  {
   "cell_type": "markdown",
   "metadata": {},
   "source": [
    "# Projet"
   ]
  },
  {
   "cell_type": "markdown",
   "metadata": {},
   "source": [
    "## Chargement des données"
   ]
  },
  {
   "cell_type": "code",
   "execution_count": 2,
   "metadata": {},
   "outputs": [
    {
     "name": "stdout",
     "output_type": "stream",
     "text": [
      "       Date      HomeTeam        AwayTeam  FTHG  FTAG FTR  HTHG  HTAG HTR  \\\n",
      "0  10/08/18    Man United       Leicester     2     1   H     1     0   H   \n",
      "1  11/08/18   Bournemouth         Cardiff     2     0   H     1     0   H   \n",
      "2  11/08/18        Fulham  Crystal Palace     0     2   A     0     1   A   \n",
      "3  11/08/18  Huddersfield         Chelsea     0     3   A     0     2   A   \n",
      "4  11/08/18     Newcastle       Tottenham     1     2   A     1     2   A   \n",
      "\n",
      "      Referee  ...  HST  AST  HF  AF  HC  AC  HY  AY  HR  AR  \n",
      "0  A Marriner  ...    6    4  11   8   2   5   2   1   0   0  \n",
      "1    K Friend  ...    4    1  11   9   7   4   1   1   0   0  \n",
      "2      M Dean  ...    6    9   9  11   5   5   1   2   0   0  \n",
      "3  C Kavanagh  ...    1    4   9   8   2   5   2   1   0   0  \n",
      "4  M Atkinson  ...    2    5  11  12   3   5   2   2   0   0  \n",
      "\n",
      "[5 rows x 22 columns]\n"
     ]
    }
   ],
   "source": [
    "import pandas as pd\n",
    "\n",
    "# Charger les données à partir du fichier CSV\n",
    "data = pd.read_csv(\"dataset/premierleague/season-1819.csv\")\n",
    "data_ligue1_1718 = pd.read_csv(\"dataset/ligue1/season-1718.csv\")\n",
    "data_premierleague_1819 = pd.read_csv(\"dataset/premierleague/season-1819.csv\")\n",
    "\n",
    "# Afficher les premières lignes pour vérifier que les données sont chargées correctement\n",
    "print(data.head())\n",
    "data = pd.concat([data, data_ligue1_1718, data_premierleague_1819], ignore_index=True)\n"
   ]
  },
  {
   "cell_type": "markdown",
   "metadata": {},
   "source": [
    "## Transformation en series de score"
   ]
  },
  {
   "cell_type": "code",
   "execution_count": 3,
   "metadata": {},
   "outputs": [
    {
     "name": "stdout",
     "output_type": "stream",
     "text": [
      "  Half_Time_Score Final_Score\n",
      "0             1-0         2-1\n",
      "1             1-0         2-0\n",
      "2             0-1         0-2\n",
      "3             0-2         0-3\n",
      "4             1-2         1-2\n",
      "    Half_Time_Score Final_Score\n",
      "795             1-1         1-2\n",
      "796             0-0         0-2\n",
      "797             0-0         2-2\n",
      "798             0-0         0-2\n",
      "799             1-0         2-1\n"
     ]
    }
   ],
   "source": [
    "# Créer une nouvelle colonne pour le score final du match\n",
    "data['Final_Score'] = data['FTHG'].astype(str) + '-' + data['FTAG'].astype(str)\n",
    "\n",
    "# Créer une nouvelle colonne pour le score à la mi-temps du match\n",
    "data['Half_Time_Score'] = data['HTHG'].astype(str) + '-' + data['HTAG'].astype(str)\n",
    "\n",
    "# Afficher les premières lignes pour vérifier les transformations\n",
    "print(data[['Half_Time_Score', 'Final_Score' ]].head())\n",
    "print(data[['Half_Time_Score', 'Final_Score']].tail())\n",
    "\n"
   ]
  },
  {
   "cell_type": "markdown",
   "metadata": {},
   "source": [
    "## Modèle Markov"
   ]
  },
  {
   "cell_type": "markdown",
   "metadata": {},
   "source": [
    "### Proba Transition"
   ]
  },
  {
   "cell_type": "code",
   "execution_count": 4,
   "metadata": {},
   "outputs": [
    {
     "name": "stdout",
     "output_type": "stream",
     "text": [
      "Probabilités de transition pour le score final du match:\n",
      "defaultdict(<class 'dict'>, {2: {1: 0.36666666666666664, 0: 0.32222222222222224, 2: 0.23333333333333334, 3: 0.05, 6: 0.011111111111111112, 4: 0.005555555555555556, 5: 0.011111111111111112}, 0: {2: 0.25, 3: 0.11274509803921569, 0: 0.24019607843137256, 1: 0.30392156862745096, 5: 0.03431372549019608, 4: 0.058823529411764705}, 1: {2: 0.26141078838174275, 3: 0.08298755186721991, 0: 0.2821576763485477, 1: 0.3360995850622407, 5: 0.029045643153526972, 4: 0.008298755186721992}, 4: {0: 0.34285714285714286, 2: 0.3142857142857143, 1: 0.34285714285714286}, 3: {2: 0.22033898305084745, 1: 0.4491525423728814, 0: 0.2627118644067797, 3: 0.06779661016949153}, 6: {1: 0.5555555555555556, 2: 0.2222222222222222, 0: 0.1111111111111111, 3: 0.1111111111111111}, 5: {0: 0.6363636363636364, 1: 0.2727272727272727, 2: 0.09090909090909091}, 8: {0: 1.0}, 7: {1: 1.0}})\n",
      "\n",
      "Probabilités de transition pour le score à la mi-temps du match:\n",
      "defaultdict(<class 'dict'>, {1: {0: 0.5682539682539682, 2: 0.05714285714285714, 1: 0.3396825396825397, 3: 0.03492063492063492}, 0: {1: 0.2955145118733509, 2: 0.09234828496042216, 0: 0.58311345646438, 3: 0.026385224274406333, 4: 0.002638522427440633}, 2: {0: 0.5882352941176471, 2: 0.1323529411764706, 1: 0.2647058823529412, 3: 0.014705882352941176}, 3: {1: 0.2962962962962963, 2: 0.07407407407407407, 0: 0.5555555555555556, 3: 0.07407407407407407}, 4: {1: 0.5, 0: 0.5}, 5: {1: 1.0}})\n"
     ]
    }
   ],
   "source": [
    "from collections import defaultdict\n",
    "\n",
    "# Fonction pour calculer les probabilités de transition à partir des séries de score\n",
    "def calculer_probabilites_transition(series_de_scores):\n",
    "    transitions = defaultdict(lambda: defaultdict(int))\n",
    "    for score in series_de_scores:\n",
    "        scores = score.split('-')\n",
    "        for i in range(len(scores) - 1):\n",
    "            transitions[int(scores[i])][int(scores[i + 1])] += 1\n",
    "    \n",
    "    # Calculer les probabilités de transition\n",
    "    probabilites_transition = defaultdict(dict)\n",
    "    for score, transitions_suivantes in transitions.items():\n",
    "        total_transitions = sum(transitions_suivantes.values())\n",
    "        for suivant, count in transitions_suivantes.items():\n",
    "            probabilites_transition[score][suivant] = count / total_transitions\n",
    "    \n",
    "    return probabilites_transition\n",
    "\n",
    "# Calculer les probabilités de transition pour le score final du match\n",
    "probabilites_transition_final = calculer_probabilites_transition(data['Final_Score'])\n",
    "\n",
    "# Calculer les probabilités de transition pour le score à la mi-temps du match\n",
    "probabilites_transition_mi_temps = calculer_probabilites_transition(data['Half_Time_Score'])\n",
    "\n",
    "# Afficher les probabilités de transition\n",
    "print(\"Probabilités de transition pour le score final du match:\")\n",
    "print(probabilites_transition_final)\n",
    "print(\"\\nProbabilités de transition pour le score à la mi-temps du match:\")\n",
    "print(probabilites_transition_mi_temps)\n"
   ]
  },
  {
   "cell_type": "markdown",
   "metadata": {},
   "source": [
    "### Matrice de transition"
   ]
  },
  {
   "cell_type": "code",
   "execution_count": 5,
   "metadata": {},
   "outputs": [
    {
     "name": "stdout",
     "output_type": "stream",
     "text": [
      "Matrice de transition pour le score final du match :\n",
      "[[0.24019608 0.30392157 0.25       0.1127451  0.05882353 0.03431373\n",
      "  0.         0.         0.        ]\n",
      " [0.28215768 0.33609959 0.26141079 0.08298755 0.00829876 0.02904564\n",
      "  0.         0.         0.        ]\n",
      " [0.32222222 0.36666667 0.23333333 0.05       0.00555556 0.01111111\n",
      "  0.01111111 0.         0.        ]\n",
      " [0.26271186 0.44915254 0.22033898 0.06779661 0.         0.\n",
      "  0.         0.         0.        ]\n",
      " [0.34285714 0.34285714 0.31428571 0.         0.         0.\n",
      "  0.         0.         0.        ]\n",
      " [0.63636364 0.27272727 0.09090909 0.         0.         0.\n",
      "  0.         0.         0.        ]\n",
      " [0.11111111 0.55555556 0.22222222 0.11111111 0.         0.\n",
      "  0.         0.         0.        ]\n",
      " [0.         1.         0.         0.         0.         0.\n",
      "  0.         0.         0.        ]\n",
      " [1.         0.         0.         0.         0.         0.\n",
      "  0.         0.         0.        ]]\n",
      "\n",
      "Matrice de transition pour le score à la mi-temps du match :\n",
      "[[0.58311346 0.29551451 0.09234828 0.02638522 0.00263852 0.        ]\n",
      " [0.56825397 0.33968254 0.05714286 0.03492063 0.         0.        ]\n",
      " [0.58823529 0.26470588 0.13235294 0.01470588 0.         0.        ]\n",
      " [0.55555556 0.2962963  0.07407407 0.07407407 0.         0.        ]\n",
      " [0.5        0.5        0.         0.         0.         0.        ]\n",
      " [0.         1.         0.         0.         0.         0.        ]]\n"
     ]
    }
   ],
   "source": [
    "import numpy as np\n",
    "\n",
    "# Fonction pour construire la matrice de transition à partir des probabilités de transition\n",
    "def construire_matrice_transition(probabilites_transition):\n",
    "    # Nombre total d'états (scores)\n",
    "    nb_etats = len(probabilites_transition)\n",
    "    \n",
    "    # Initialisation de la matrice de transition avec des zéros\n",
    "    matrice_transition = np.zeros((nb_etats, nb_etats))\n",
    "    \n",
    "    # Remplissage de la matrice de transition avec les probabilités de transition\n",
    "    for i in range(nb_etats):\n",
    "        for j in range(nb_etats):\n",
    "            matrice_transition[i][j] = probabilites_transition[i].get(j, 0)\n",
    "    \n",
    "    return matrice_transition\n",
    "\n",
    "# Construire la matrice de transition pour le score final du match\n",
    "matrice_transition_final = construire_matrice_transition(probabilites_transition_final)\n",
    "\n",
    "# Construire la matrice de transition pour le score à la mi-temps du match\n",
    "matrice_transition_mi_temps = construire_matrice_transition(probabilites_transition_mi_temps)\n",
    "\n",
    "# Afficher les matrices de transition\n",
    "print(\"Matrice de transition pour le score final du match :\")\n",
    "print(matrice_transition_final)\n",
    "print(\"\\nMatrice de transition pour le score à la mi-temps du match :\")\n",
    "print(matrice_transition_mi_temps)\n"
   ]
  },
  {
   "cell_type": "markdown",
   "metadata": {},
   "source": [
    "## Prediction"
   ]
  },
  {
   "cell_type": "code",
   "execution_count": 6,
   "metadata": {},
   "outputs": [],
   "source": [
    "from sklearn.model_selection import train_test_split\n",
    "\n",
    "# Diviser les données en ensembles d'entraînement et de test\n",
    "train_data, test_data = train_test_split(data, test_size=0.2, random_state=42)\n"
   ]
  },
  {
   "cell_type": "code",
   "execution_count": 7,
   "metadata": {},
   "outputs": [],
   "source": [
    "import numpy as np\n",
    "\n",
    "# Fonction pour prédire le prochain état en utilisant la chaîne de Markov\n",
    "def predire_prochain_etat(probabilites_transition, etat_actuel):\n",
    "    # Sélectionner les probabilités de transition pour l'état actuel\n",
    "    probabilites_suivantes = probabilites_transition[etat_actuel]\n",
    "    \n",
    "    # S'il n'y a pas de probabilités de transition pour cet état, retourner un état aléatoire\n",
    "    if not probabilites_suivantes:\n",
    "        return np.random.choice(list(probabilites_transition.keys()))\n",
    "    \n",
    "    # Choisir le prochain état en fonction des probabilités de transition\n",
    "    etats_possibles = list(probabilites_suivantes.keys())\n",
    "    probabilites = list(probabilites_suivantes.values())\n",
    "    prochain_etat = np.random.choice(etats_possibles, p=probabilites)\n",
    "    \n",
    "    return prochain_etat\n",
    "\n",
    "# Fonction pour prédire les scores futurs pour une série de scores donnée\n",
    "def predire_scores(probabilites_transition, series_de_scores):\n",
    "    predictions = []\n",
    "    for serie_de_scores in series_de_scores:\n",
    "        prediction = [serie_de_scores[0]]  # Le premier score est le score initial\n",
    "        for i in range(len(serie_de_scores) - 1):\n",
    "            prochain_etat = predire_prochain_etat(probabilites_transition, serie_de_scores[i])\n",
    "            prediction.append(prochain_etat)\n",
    "        predictions.append(prediction)\n",
    "    return predictions\n",
    "\n",
    "# Prédire les scores futurs pour l'ensemble d'entraînement\n",
    "predictions_train = predire_scores(probabilites_transition_final, train_data)\n",
    "\n",
    "# Prédire les scores futurs pour l'ensemble de test\n",
    "predictions_test = predire_scores(probabilites_transition_final, test_data)\n",
    "\n"
   ]
  },
  {
   "cell_type": "code",
   "execution_count": 8,
   "metadata": {
    "scrolled": true
   },
   "outputs": [
    {
     "name": "stdout",
     "output_type": "stream",
     "text": [
      "Série de scores originale : [0, 1, 1, 2, 2]\n",
      "Prédictions de la chaîne de Markov : [0, 0, 0, 0, 0]\n",
      "\n",
      "Série de scores originale : [1, 1, 2, 2, 3]\n",
      "Prédictions de la chaîne de Markov : [1, 0, 2, 0, 2]\n",
      "\n"
     ]
    }
   ],
   "source": [
    "# Exemple de données de score\n",
    "exemple_serie_scores = [[0, 1, 1, 2, 2], [1, 1, 2, 2, 3]]\n",
    "\n",
    "# Appel de la fonction pour prédire les scores\n",
    "predictions = predire_scores(probabilites_transition_final, exemple_serie_scores)\n",
    "\n",
    "# Affichage des prédictions et des séries de scores originales pour comparaison\n",
    "for i, prediction in enumerate(predictions):\n",
    "    print(\"Série de scores originale :\", exemple_serie_scores[i])\n",
    "    print(\"Prédictions de la chaîne de Markov :\", prediction)\n",
    "    print()\n"
   ]
  },
  {
   "cell_type": "code",
   "execution_count": null,
   "metadata": {},
   "outputs": [],
   "source": []
  },
  {
   "cell_type": "code",
   "execution_count": null,
   "metadata": {},
   "outputs": [],
   "source": []
  },
  {
   "cell_type": "code",
   "execution_count": null,
   "metadata": {},
   "outputs": [],
   "source": []
  },
  {
   "cell_type": "code",
   "execution_count": null,
   "metadata": {},
   "outputs": [],
   "source": []
  },
  {
   "cell_type": "code",
   "execution_count": null,
   "metadata": {},
   "outputs": [],
   "source": []
  },
  {
   "cell_type": "code",
   "execution_count": null,
   "metadata": {},
   "outputs": [],
   "source": []
  },
  {
   "cell_type": "code",
   "execution_count": null,
   "metadata": {},
   "outputs": [],
   "source": []
  },
  {
   "cell_type": "code",
   "execution_count": null,
   "metadata": {},
   "outputs": [],
   "source": []
  },
  {
   "cell_type": "code",
   "execution_count": null,
   "metadata": {},
   "outputs": [],
   "source": []
  },
  {
   "cell_type": "code",
   "execution_count": null,
   "metadata": {},
   "outputs": [],
   "source": []
  },
  {
   "cell_type": "code",
   "execution_count": null,
   "metadata": {},
   "outputs": [],
   "source": []
  }
 ],
 "metadata": {
  "kernelspec": {
   "display_name": "Python 3",
   "language": "python",
   "name": "python3"
  },
  "language_info": {
   "codemirror_mode": {
    "name": "ipython",
    "version": 3
   },
   "file_extension": ".py",
   "mimetype": "text/x-python",
   "name": "python",
   "nbconvert_exporter": "python",
   "pygments_lexer": "ipython3",
   "version": "3.8.10"
  }
 },
 "nbformat": 4,
 "nbformat_minor": 4
}
